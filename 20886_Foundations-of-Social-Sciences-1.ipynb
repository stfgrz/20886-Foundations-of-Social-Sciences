{
 "cells": [
  {
   "cell_type": "markdown",
   "id": "3813d47e-4698-4b97-b9d5-23718f58fab4",
   "metadata": {},
   "source": [
    "useful notation:"
   ]
  },
  {
   "cell_type": "markdown",
   "id": "56f8209f-9db5-40f8-a853-f6119f4605f8",
   "metadata": {},
   "source": [
    "Blue Banner:\n",
    "\n",
    "<div class=\"alert alert-block alert-info\">\n",
    "<b>Tip:</b> Use blue boxes (alert-info) for tips and notes. \n",
    "If it’s a note, you don’t have to include the word “Note”.\n",
    "</div>\n",
    "\n",
    "Green Banner:\n",
    "\n",
    "<div class=\"alert alert-block alert-success\">\n",
    "<b>Up to you:</b> Use green boxes sparingly, and only for some specific \n",
    "purpose that the other boxes can't cover. For example, if you have a lot \n",
    "of related content to link to, maybe you decide to use green boxes for \n",
    "related links from each section of a notebook.\n",
    "</div>\n",
    "\n",
    "Yellow Banner:\n",
    "\n",
    "<div class=\"alert alert-block alert-warning\">\n",
    "<b>Example:</b> Use yellow boxes for examples that are not \n",
    "inside code cells, or use for mathematical formulas if needed.\n",
    "</div>\n",
    "\n",
    "Red Banner:\n",
    "\n",
    "<div class=\"alert alert-block alert-danger\">\n",
    "<b>Just don't:</b> In general, avoid the red boxes. These should only be\n",
    "used for actions that might cause data loss or another major issue.\n",
    "</div>"
   ]
  },
  {
   "cell_type": "markdown",
   "id": "4303a02c-170e-47ab-98aa-f43333aba0f9",
   "metadata": {},
   "source": [
    "Horizontal line:\n",
    "\n",
    "***"
   ]
  },
  {
   "cell_type": "markdown",
   "id": "6e1e790a-d9a2-473f-908c-2329ecd6b968",
   "metadata": {},
   "source": [
    "To write code in the standard markdown box, it needs to be within two symbols ```, which you can obtain by pressing simultaneously `option` and `\\` (backslash)"
   ]
  },
  {
   "cell_type": "markdown",
   "id": "eeddbc45-60a2-4fc3-9db6-f88e85a3eb71",
   "metadata": {},
   "source": [
    "__[Markdown for Jupyter notebooks cheatsheet](https://www.ibm.com/docs/en/watson-studio-local/1.2.3?topic=notebooks-markdown-jupyter-cheatsheet)__"
   ]
  },
  {
   "cell_type": "markdown",
   "id": "0b6e2344-5179-481b-a482-7cf0ed495598",
   "metadata": {},
   "source": [
    "Don't be worried if you feel like you are not familiar with that technique; we will minimize most of the content we face, but it is not always possible."
   ]
  },
  {
   "cell_type": "markdown",
   "id": "458b0822-f10b-4746-9c0c-0c199491e57d",
   "metadata": {},
   "source": [
    "# 1. Introduction"
   ]
  },
  {
   "cell_type": "markdown",
   "id": "739591a6-6046-4eab-9fa7-09347796e437",
   "metadata": {},
   "source": [
    "## 1.1. Example of a paper"
   ]
  },
  {
   "cell_type": "markdown",
   "id": "cf298811-79ab-4768-b231-363ad5e166f8",
   "metadata": {},
   "source": []
  },
  {
   "cell_type": "markdown",
   "id": "180dac2e-b1d9-4635-912c-aac8a5197e68",
   "metadata": {},
   "source": [
    "## 1.2. What is big data?"
   ]
  },
  {
   "cell_type": "markdown",
   "id": "2478e549-8241-4026-9d53-fb3e80872c8e",
   "metadata": {},
   "source": [
    "Big data are created and collected by companies and governments for the purpose other than research therefore requires repurposing\n",
    "- __Big__: they are so big that we often need to make important investments in computing facilities in order to analyse the data; being \"big\" does not automatically entail better, but it is a mean to do research and to identify algorithms that you could not otherwise identify with smaller datasets.\n",
    "- __Always-on__: the estimate can be frequently updated due to the constant generation/expansion of data.\n",
    "- Non-reactive: the person providing the data is unaware of being studies/questioned; there is hence no incentive to act or answer strategically, as it usually happens in surveys.\n",
    "- __Incomplete__: pretty self explanatory.\n",
    "- __Inacessible__: both governments and companies can be _bad guys_ and manipulate/prevent you form accessing certain data.\n",
    "- __Non-representative__: e.g. if you mine data from a social network and use it to make generalisations about society, someone else may say that this specific social network is not representative of society as a whole.\n",
    "- __Algorithmically Confounded__: we need great attention to understand the algorithms used to analyse the data, and how biases might affect them.\n",
    "- __Dirty__\n",
    "- __Sensitive__"
   ]
  },
  {
   "cell_type": "markdown",
   "id": "999b8042-ad9d-4412-b919-987b864c76e8",
   "metadata": {},
   "source": [
    "## 1.3. Why this course?"
   ]
  },
  {
   "cell_type": "markdown",
   "id": "83029f89-38ea-403c-be50-f3e6d974ece0",
   "metadata": {},
   "source": [
    "-  Introduction to empirical research in the social science (see other modules)\n",
    "-  Big data (new methods, approaches, challenges)\n",
    "-  This course avoids contents that you will see later on in the program and issue not covered in other courses in Bocconi\n",
    "-  It is important to let you familiarize with some ideas and practice about big data since the very beginning"
   ]
  },
  {
   "cell_type": "markdown",
   "id": "38ae92b9-a08d-41ae-a36f-1526f22922cc",
   "metadata": {},
   "source": [
    "## 1.4. Attendance"
   ]
  },
  {
   "cell_type": "markdown",
   "id": "8f56c377-8fa3-43ff-bc1b-db7630e13ee1",
   "metadata": {},
   "source": [
    "- Attendance occurs only in-person and is strongly recommended\n",
    "- Class timetable\n",
    "    - Class 20: Tuesday (16:30 – 18:00), Thursday (12:00 – 13:30)\n",
    "    - Class 21: Tuesday (12:00 – 13:30), Thursday (16:30 – 18:00)\n",
    "- Students are considered attending upon completion of the groupwork (presentation and paper)\n",
    "- The points earned in the activities have no expiration date\n",
    "- Students will not be able to switch from attending to non-attending\n",
    "\n",
    "<div class=\"alert alert-block alert-info\">\n",
    "<b>Note:</b> You are considered attending upon completition of the group work\n",
    "</div>"
   ]
  },
  {
   "cell_type": "markdown",
   "id": "5209af87-c408-4ce2-b819-5929f58a36d1",
   "metadata": {},
   "source": [
    "### 1.5. Assessment – Attending students"
   ]
  },
  {
   "cell_type": "markdown",
   "id": "a5a7155a-71d4-48f4-977d-0571128810e1",
   "metadata": {},
   "source": [
    "The final grade will be composed of:\n",
    "- __Activity 1__: 2 individual problem sets (5 points each)\n",
    "- __Activity 2__: Group project and in class presentation (40 points)\n",
    "- __Final exam__ (50 points)\n",
    "\n",
    "<div class=\"alert alert-block alert-warning\">\n",
    "<b>Disclaimer:</b> professors have a document on the topic of grade normalisation that has been discussed for years. They cannot award everybody 27 or above. \n",
    "Professor Fattore does not look at the distribution; rather, he looks at the performamce of the students and tends to discriminate on minor mistakes/issues for people looking at high grades (29 or above).  \n",
    "</div>"
   ]
  },
  {
   "cell_type": "markdown",
   "id": "669976c4-0f34-41be-ab50-68aa0dae0c64",
   "metadata": {},
   "source": [
    "### 1.5.1. Individual Problem Sets"
   ]
  },
  {
   "cell_type": "markdown",
   "id": "1cf5c319-2cd5-488f-ba38-b6bc51c59535",
   "metadata": {},
   "source": [
    "Students are expected to submit an individual assignment (exercise with using Stata or another software). \n",
    "\n",
    "The first assignment is __due by October 4__ and the second by __November 5__.\n",
    " \n",
    "<div class=\"alert alert-block alert-info\">\n",
    "<b>Note:</b> The assignments are pass or fail, hence maximum grade obtained if submitted\n",
    "</div>"
   ]
  },
  {
   "cell_type": "markdown",
   "id": "3b343a0b-2753-478d-9266-871ce77afc8c",
   "metadata": {},
   "source": [
    "### 1.5.2. Group Project"
   ]
  },
  {
   "cell_type": "markdown",
   "id": "52264323-3202-458f-bf47-ebbdf72641dc",
   "metadata": {},
   "source": [
    "- Attending students form autonomously __groups of 5 members__\n",
    "- __Group formation__ must be completed __by September 28th__\n",
    "- Exceptions for serious reasons will be discussed with, and granted by TAs"
   ]
  },
  {
   "cell_type": "markdown",
   "id": "a135a5a7-b037-4833-9d2e-59ee544dc479",
   "metadata": {},
   "source": [
    "### 1.5.3. Group Presentations"
   ]
  },
  {
   "cell_type": "markdown",
   "id": "ec67ebf3-fa1b-4f97-9cd3-20574f2bed8e",
   "metadata": {},
   "source": [
    "- In the last 4 sessions of the course, groups will present their papers to the class\n",
    "- All group members are required to actively take part in the presentation\n",
    "- Each presentation should not exceed 13 minutes\n",
    "- More details provided throughout the course"
   ]
  },
  {
   "cell_type": "markdown",
   "id": "0b3a3cdc-de5b-4593-ac26-11f6c024a713",
   "metadata": {},
   "source": [
    "### 1.5.4. Final exam"
   ]
  },
  {
   "cell_type": "markdown",
   "id": "087784b7-c6b9-487b-a385-91a83d8abba3",
   "metadata": {},
   "source": [
    "- General exam, no partial exams\n",
    "- Written, on students’ laptops\n",
    "- One-hour\n",
    "- Multiple choice questions and/or essay questions"
   ]
  },
  {
   "cell_type": "markdown",
   "id": "1bbe7a12-a135-45d0-ad1e-3bee63799a94",
   "metadata": {
    "jp-MarkdownHeadingCollapsed": true
   },
   "source": [
    "# 2.a Surveys (population, sampling and how to make questions)"
   ]
  },
  {
   "cell_type": "markdown",
   "id": "35c2d5b9-be56-4bd0-a929-8cf1df544660",
   "metadata": {},
   "source": []
  },
  {
   "cell_type": "markdown",
   "id": "f5a66c0d-a9cc-4082-bde1-9bf5a34eee04",
   "metadata": {
    "jp-MarkdownHeadingCollapsed": true
   },
   "source": [
    "# 2.b Directed Acyclic Graphs [1]"
   ]
  },
  {
   "cell_type": "markdown",
   "id": "2c872a85-49f2-4420-8049-b08f59c3984c",
   "metadata": {},
   "source": []
  },
  {
   "cell_type": "markdown",
   "id": "ac7c9df8-c59b-40e0-ac37-4e459a8f1545",
   "metadata": {
    "jp-MarkdownHeadingCollapsed": true
   },
   "source": [
    "# 2.c Directed Acyclic Graphs [2]"
   ]
  },
  {
   "cell_type": "markdown",
   "id": "e63196d3-0855-45bd-9d00-5ae18cd739cb",
   "metadata": {},
   "source": []
  },
  {
   "cell_type": "markdown",
   "id": "adff0100-3661-4805-9e92-5ddfd5caeba5",
   "metadata": {
    "jp-MarkdownHeadingCollapsed": true
   },
   "source": [
    "# 3. Potential Outcomes Causal Model"
   ]
  },
  {
   "cell_type": "markdown",
   "id": "53a4ffdb-6bc4-4a4c-bb57-d9caae2264ad",
   "metadata": {},
   "source": []
  },
  {
   "cell_type": "markdown",
   "id": "5cb1e6f7-1178-463f-92a2-254bd716d70e",
   "metadata": {
    "jp-MarkdownHeadingCollapsed": true
   },
   "source": [
    "# 4. Matching and Subclassification"
   ]
  },
  {
   "cell_type": "markdown",
   "id": "745b81a5-4b1e-4e9e-b114-086f14622549",
   "metadata": {},
   "source": []
  },
  {
   "cell_type": "markdown",
   "id": "c183b261-41b1-4099-a074-6475f3e087f6",
   "metadata": {
    "jp-MarkdownHeadingCollapsed": true
   },
   "source": [
    "# 5. Regression Discontinuity"
   ]
  },
  {
   "cell_type": "markdown",
   "id": "eda25445-3c90-4d68-97e5-9b2c719156ee",
   "metadata": {},
   "source": []
  },
  {
   "cell_type": "markdown",
   "id": "09eec19a-cf59-44b5-a776-47d3193475af",
   "metadata": {
    "jp-MarkdownHeadingCollapsed": true
   },
   "source": [
    "# 6. Instrumental Variables"
   ]
  },
  {
   "cell_type": "markdown",
   "id": "91738715-a63c-4b15-96f7-2d2053ecd413",
   "metadata": {},
   "source": []
  },
  {
   "cell_type": "markdown",
   "id": "10434e9d-8257-4efe-b6b9-99b390dc6c53",
   "metadata": {
    "jp-MarkdownHeadingCollapsed": true
   },
   "source": [
    "# 7. Difference-in-Differences"
   ]
  },
  {
   "cell_type": "markdown",
   "id": "3d949fd8-bfdb-46bd-9e90-1931dbccab60",
   "metadata": {},
   "source": []
  },
  {
   "cell_type": "markdown",
   "id": "266e19c5-addf-4b4b-a849-1e8c78902327",
   "metadata": {
    "jp-MarkdownHeadingCollapsed": true
   },
   "source": [
    "# 8. Systematic Reviews and Meta-analysis"
   ]
  },
  {
   "cell_type": "markdown",
   "id": "c6410374-7bcd-4928-8ec2-ba6afd508392",
   "metadata": {},
   "source": []
  },
  {
   "cell_type": "markdown",
   "id": "4c1d3e48-0990-4731-8c65-e5969351f392",
   "metadata": {
    "jp-MarkdownHeadingCollapsed": true
   },
   "source": [
    "# 9. Introduction to Computational Social Sciences"
   ]
  },
  {
   "cell_type": "markdown",
   "id": "3faf1cbc-97d1-4f41-b982-967aedb7e607",
   "metadata": {},
   "source": []
  },
  {
   "cell_type": "markdown",
   "id": "4ea1b957-131e-4207-b60d-220e98d52fe5",
   "metadata": {
    "jp-MarkdownHeadingCollapsed": true
   },
   "source": [
    "# 10.a Online tools for traditional research questions: surveys and experiments [1]\n"
   ]
  },
  {
   "cell_type": "code",
   "execution_count": null,
   "id": "1392f08f-9dee-44bb-b23c-c78a299771fa",
   "metadata": {},
   "outputs": [],
   "source": []
  },
  {
   "cell_type": "markdown",
   "id": "f5919107-cbfe-4b63-8c60-15c217a0b28e",
   "metadata": {
    "jp-MarkdownHeadingCollapsed": true
   },
   "source": [
    "# 10.b Online tools for traditional research questions: surveys and experiments [2]"
   ]
  },
  {
   "cell_type": "code",
   "execution_count": null,
   "id": "62ab8687-b2f5-40b6-9188-ee0e9db65a22",
   "metadata": {},
   "outputs": [],
   "source": []
  },
  {
   "cell_type": "markdown",
   "id": "353471d6-d6d1-4426-9590-e1eb736255b9",
   "metadata": {
    "jp-MarkdownHeadingCollapsed": true
   },
   "source": [
    "# 11.a The Internet as data generation: browsing and scraping [1]"
   ]
  },
  {
   "cell_type": "code",
   "execution_count": null,
   "id": "29fa890c-b357-4293-a6c5-e45ca2e73751",
   "metadata": {},
   "outputs": [],
   "source": []
  },
  {
   "cell_type": "markdown",
   "id": "45797e05-fe53-4cbd-b651-2f7d2ac18760",
   "metadata": {
    "jp-MarkdownHeadingCollapsed": true
   },
   "source": [
    "# 11.b The internet as data generation: APIs and post-API [2]"
   ]
  },
  {
   "cell_type": "code",
   "execution_count": null,
   "id": "e10ed141-ffe2-440a-9973-f0a463960351",
   "metadata": {},
   "outputs": [],
   "source": []
  },
  {
   "cell_type": "markdown",
   "id": "837455a0-1515-4820-8385-1a291ee74fa2",
   "metadata": {
    "jp-MarkdownHeadingCollapsed": true
   },
   "source": [
    "# 12. Principles of machine learning: prediction vs explanation"
   ]
  },
  {
   "cell_type": "code",
   "execution_count": null,
   "id": "69c27ed8-f8ce-428b-861b-142c78a5dcdb",
   "metadata": {},
   "outputs": [],
   "source": []
  },
  {
   "cell_type": "markdown",
   "id": "e3334f29-4357-43d1-a2e5-56719c30909f",
   "metadata": {
    "jp-MarkdownHeadingCollapsed": true
   },
   "source": [
    "# 13. Unsupervised learning: data reduction and clustering"
   ]
  },
  {
   "cell_type": "code",
   "execution_count": null,
   "id": "17eb6349-73e7-4a92-a943-1bf9f91ee23c",
   "metadata": {},
   "outputs": [],
   "source": []
  },
  {
   "cell_type": "markdown",
   "id": "602f08b2-ff91-4515-b8ac-1954c2f5cf63",
   "metadata": {
    "jp-MarkdownHeadingCollapsed": true
   },
   "source": [
    "# 14. Supervised learning: classification and regression"
   ]
  },
  {
   "cell_type": "code",
   "execution_count": null,
   "id": "a216052c-28e9-4ed8-8d65-a5a9363ef076",
   "metadata": {},
   "outputs": [],
   "source": []
  },
  {
   "cell_type": "markdown",
   "id": "4287159d-62df-49d7-9588-e7190cbb72a7",
   "metadata": {
    "jp-MarkdownHeadingCollapsed": true
   },
   "source": [
    "# 15. Text as data and large language models"
   ]
  },
  {
   "cell_type": "code",
   "execution_count": null,
   "id": "a3a6cfdf-5dd6-4630-aaf0-9e3a67d427c4",
   "metadata": {},
   "outputs": [],
   "source": []
  },
  {
   "cell_type": "markdown",
   "id": "2b5f4e6c-247b-4f36-b3fa-2fd77fc9fbdc",
   "metadata": {
    "jp-MarkdownHeadingCollapsed": true
   },
   "source": [
    "# 16. Mock exam"
   ]
  },
  {
   "cell_type": "code",
   "execution_count": null,
   "id": "83f871bc-22fc-4bcc-bb0d-d1e9095bebf4",
   "metadata": {},
   "outputs": [],
   "source": []
  }
 ],
 "metadata": {
  "kernelspec": {
   "display_name": "Python 3 (ipykernel)",
   "language": "python",
   "name": "python3"
  },
  "language_info": {
   "codemirror_mode": {
    "name": "ipython",
    "version": 3
   },
   "file_extension": ".py",
   "mimetype": "text/x-python",
   "name": "python",
   "nbconvert_exporter": "python",
   "pygments_lexer": "ipython3",
   "version": "3.11.5"
  }
 },
 "nbformat": 4,
 "nbformat_minor": 5
}
